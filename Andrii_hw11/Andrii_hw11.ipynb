{
 "cells": [
  {
   "cell_type": "code",
   "execution_count": 15,
   "metadata": {},
   "outputs": [],
   "source": [
    "import pandas as pd\n",
    "import matplotlib.pyplot as plt\n",
    "from sklearn.ensemble import StackingClassifier\n",
    "from sklearn.linear_model import LogisticRegression\n",
    "from sklearn.model_selection import train_test_split\n",
    "from sklearn.ensemble import RandomForestClassifier\n",
    "from sklearn.ensemble import GradientBoostingClassifier\n",
    "from sklearn.ensemble import BaggingClassifier\n",
    "from sklearn.preprocessing import StandardScaler\n",
    "from sklearn.pipeline import make_pipeline\n",
    "from sklearn.svm import LinearSVC\n",
    "from sklearn.tree import DecisionTreeClassifier"
   ]
  },
  {
   "cell_type": "markdown",
   "id": "6fffc1b4",
   "metadata": {},
   "source": [
    "# Оглянемо наші дані"
   ]
  },
  {
   "cell_type": "code",
   "execution_count": 2,
   "id": "c9ca0866",
   "metadata": {},
   "outputs": [
    {
     "name": "stdout",
     "output_type": "stream",
     "text": [
      "<class 'pandas.core.frame.DataFrame'>\n",
      "RangeIndex: 2043 entries, 0 to 2042\n",
      "Data columns (total 9 columns):\n",
      " #   Column               Non-Null Count  Dtype  \n",
      "---  ------               --------------  -----  \n",
      " 0   process.b1.capacity  2043 non-null   int64  \n",
      " 1   process.b2.capacity  2043 non-null   int64  \n",
      " 2   process.b3.capacity  2043 non-null   int64  \n",
      " 3   process.b4.capacity  2043 non-null   int64  \n",
      " 4   property.price       2043 non-null   int64  \n",
      " 5   property.product     2043 non-null   int64  \n",
      " 6   property.winner      2043 non-null   int64  \n",
      " 7   verification.result  2043 non-null   bool   \n",
      " 8   verification.time    2043 non-null   float64\n",
      "dtypes: bool(1), float64(1), int64(7)\n",
      "memory usage: 129.8 KB\n",
      "None\n"
     ]
    }
   ],
   "source": [
    "df = pd.read_csv(\"./data.csv\")\n",
    "print(df.info())"
   ]
  },
  {
   "cell_type": "markdown",
   "id": "c45d83b9",
   "metadata": {},
   "source": [
    "Маємо 2043 строки та 9 колонок з різними типами даних\n",
    "\n",
    "Немає пустих ячейок, що покращує нам роботу"
   ]
  },
  {
   "cell_type": "code",
   "execution_count": 3,
   "id": "c272167c",
   "metadata": {},
   "outputs": [
    {
     "data": {
      "text/html": [
       "<div>\n",
       "<style scoped>\n",
       "    .dataframe tbody tr th:only-of-type {\n",
       "        vertical-align: middle;\n",
       "    }\n",
       "\n",
       "    .dataframe tbody tr th {\n",
       "        vertical-align: top;\n",
       "    }\n",
       "\n",
       "    .dataframe thead th {\n",
       "        text-align: right;\n",
       "    }\n",
       "</style>\n",
       "<table border=\"1\" class=\"dataframe\">\n",
       "  <thead>\n",
       "    <tr style=\"text-align: right;\">\n",
       "      <th></th>\n",
       "      <th>process.b1.capacity</th>\n",
       "      <th>process.b2.capacity</th>\n",
       "      <th>process.b3.capacity</th>\n",
       "      <th>process.b4.capacity</th>\n",
       "      <th>property.price</th>\n",
       "      <th>property.product</th>\n",
       "      <th>property.winner</th>\n",
       "      <th>verification.result</th>\n",
       "      <th>verification.time</th>\n",
       "    </tr>\n",
       "  </thead>\n",
       "  <tbody>\n",
       "    <tr>\n",
       "      <th>0</th>\n",
       "      <td>0</td>\n",
       "      <td>0</td>\n",
       "      <td>2</td>\n",
       "      <td>1</td>\n",
       "      <td>59</td>\n",
       "      <td>1</td>\n",
       "      <td>0</td>\n",
       "      <td>False</td>\n",
       "      <td>163.316667</td>\n",
       "    </tr>\n",
       "    <tr>\n",
       "      <th>1</th>\n",
       "      <td>0</td>\n",
       "      <td>0</td>\n",
       "      <td>2</td>\n",
       "      <td>1</td>\n",
       "      <td>59</td>\n",
       "      <td>2</td>\n",
       "      <td>0</td>\n",
       "      <td>False</td>\n",
       "      <td>200.860000</td>\n",
       "    </tr>\n",
       "    <tr>\n",
       "      <th>2</th>\n",
       "      <td>0</td>\n",
       "      <td>0</td>\n",
       "      <td>2</td>\n",
       "      <td>1</td>\n",
       "      <td>59</td>\n",
       "      <td>4</td>\n",
       "      <td>0</td>\n",
       "      <td>False</td>\n",
       "      <td>154.888889</td>\n",
       "    </tr>\n",
       "    <tr>\n",
       "      <th>3</th>\n",
       "      <td>0</td>\n",
       "      <td>0</td>\n",
       "      <td>2</td>\n",
       "      <td>1</td>\n",
       "      <td>59</td>\n",
       "      <td>6</td>\n",
       "      <td>0</td>\n",
       "      <td>False</td>\n",
       "      <td>108.640000</td>\n",
       "    </tr>\n",
       "    <tr>\n",
       "      <th>4</th>\n",
       "      <td>0</td>\n",
       "      <td>0</td>\n",
       "      <td>2</td>\n",
       "      <td>1</td>\n",
       "      <td>60</td>\n",
       "      <td>1</td>\n",
       "      <td>0</td>\n",
       "      <td>True</td>\n",
       "      <td>85.466667</td>\n",
       "    </tr>\n",
       "    <tr>\n",
       "      <th>5</th>\n",
       "      <td>0</td>\n",
       "      <td>0</td>\n",
       "      <td>2</td>\n",
       "      <td>1</td>\n",
       "      <td>60</td>\n",
       "      <td>1</td>\n",
       "      <td>3</td>\n",
       "      <td>True</td>\n",
       "      <td>82.000000</td>\n",
       "    </tr>\n",
       "    <tr>\n",
       "      <th>6</th>\n",
       "      <td>0</td>\n",
       "      <td>0</td>\n",
       "      <td>2</td>\n",
       "      <td>1</td>\n",
       "      <td>60</td>\n",
       "      <td>1</td>\n",
       "      <td>4</td>\n",
       "      <td>False</td>\n",
       "      <td>154.250000</td>\n",
       "    </tr>\n",
       "    <tr>\n",
       "      <th>7</th>\n",
       "      <td>0</td>\n",
       "      <td>0</td>\n",
       "      <td>2</td>\n",
       "      <td>1</td>\n",
       "      <td>60</td>\n",
       "      <td>2</td>\n",
       "      <td>0</td>\n",
       "      <td>True</td>\n",
       "      <td>80.950000</td>\n",
       "    </tr>\n",
       "    <tr>\n",
       "      <th>8</th>\n",
       "      <td>0</td>\n",
       "      <td>0</td>\n",
       "      <td>2</td>\n",
       "      <td>1</td>\n",
       "      <td>60</td>\n",
       "      <td>2</td>\n",
       "      <td>3</td>\n",
       "      <td>True</td>\n",
       "      <td>78.000000</td>\n",
       "    </tr>\n",
       "    <tr>\n",
       "      <th>9</th>\n",
       "      <td>0</td>\n",
       "      <td>0</td>\n",
       "      <td>2</td>\n",
       "      <td>1</td>\n",
       "      <td>60</td>\n",
       "      <td>2</td>\n",
       "      <td>4</td>\n",
       "      <td>False</td>\n",
       "      <td>197.010000</td>\n",
       "    </tr>\n",
       "    <tr>\n",
       "      <th>10</th>\n",
       "      <td>0</td>\n",
       "      <td>0</td>\n",
       "      <td>2</td>\n",
       "      <td>1</td>\n",
       "      <td>60</td>\n",
       "      <td>4</td>\n",
       "      <td>0</td>\n",
       "      <td>True</td>\n",
       "      <td>80.250000</td>\n",
       "    </tr>\n",
       "    <tr>\n",
       "      <th>11</th>\n",
       "      <td>0</td>\n",
       "      <td>0</td>\n",
       "      <td>2</td>\n",
       "      <td>1</td>\n",
       "      <td>60</td>\n",
       "      <td>4</td>\n",
       "      <td>3</td>\n",
       "      <td>True</td>\n",
       "      <td>77.916667</td>\n",
       "    </tr>\n",
       "    <tr>\n",
       "      <th>12</th>\n",
       "      <td>0</td>\n",
       "      <td>0</td>\n",
       "      <td>2</td>\n",
       "      <td>1</td>\n",
       "      <td>60</td>\n",
       "      <td>4</td>\n",
       "      <td>4</td>\n",
       "      <td>False</td>\n",
       "      <td>144.694444</td>\n",
       "    </tr>\n",
       "    <tr>\n",
       "      <th>13</th>\n",
       "      <td>0</td>\n",
       "      <td>0</td>\n",
       "      <td>2</td>\n",
       "      <td>1</td>\n",
       "      <td>60</td>\n",
       "      <td>6</td>\n",
       "      <td>0</td>\n",
       "      <td>True</td>\n",
       "      <td>88.120000</td>\n",
       "    </tr>\n",
       "    <tr>\n",
       "      <th>14</th>\n",
       "      <td>0</td>\n",
       "      <td>0</td>\n",
       "      <td>2</td>\n",
       "      <td>1</td>\n",
       "      <td>60</td>\n",
       "      <td>6</td>\n",
       "      <td>3</td>\n",
       "      <td>True</td>\n",
       "      <td>78.840000</td>\n",
       "    </tr>\n",
       "  </tbody>\n",
       "</table>\n",
       "</div>"
      ],
      "text/plain": [
       "    process.b1.capacity  process.b2.capacity  process.b3.capacity   \n",
       "0                     0                    0                    2  \\\n",
       "1                     0                    0                    2   \n",
       "2                     0                    0                    2   \n",
       "3                     0                    0                    2   \n",
       "4                     0                    0                    2   \n",
       "5                     0                    0                    2   \n",
       "6                     0                    0                    2   \n",
       "7                     0                    0                    2   \n",
       "8                     0                    0                    2   \n",
       "9                     0                    0                    2   \n",
       "10                    0                    0                    2   \n",
       "11                    0                    0                    2   \n",
       "12                    0                    0                    2   \n",
       "13                    0                    0                    2   \n",
       "14                    0                    0                    2   \n",
       "\n",
       "    process.b4.capacity  property.price  property.product  property.winner   \n",
       "0                     1              59                 1                0  \\\n",
       "1                     1              59                 2                0   \n",
       "2                     1              59                 4                0   \n",
       "3                     1              59                 6                0   \n",
       "4                     1              60                 1                0   \n",
       "5                     1              60                 1                3   \n",
       "6                     1              60                 1                4   \n",
       "7                     1              60                 2                0   \n",
       "8                     1              60                 2                3   \n",
       "9                     1              60                 2                4   \n",
       "10                    1              60                 4                0   \n",
       "11                    1              60                 4                3   \n",
       "12                    1              60                 4                4   \n",
       "13                    1              60                 6                0   \n",
       "14                    1              60                 6                3   \n",
       "\n",
       "    verification.result  verification.time  \n",
       "0                 False         163.316667  \n",
       "1                 False         200.860000  \n",
       "2                 False         154.888889  \n",
       "3                 False         108.640000  \n",
       "4                  True          85.466667  \n",
       "5                  True          82.000000  \n",
       "6                 False         154.250000  \n",
       "7                  True          80.950000  \n",
       "8                  True          78.000000  \n",
       "9                 False         197.010000  \n",
       "10                 True          80.250000  \n",
       "11                 True          77.916667  \n",
       "12                False         144.694444  \n",
       "13                 True          88.120000  \n",
       "14                 True          78.840000  "
      ]
     },
     "execution_count": 3,
     "metadata": {},
     "output_type": "execute_result"
    }
   ],
   "source": [
    "df.head(15)"
   ]
  },
  {
   "cell_type": "code",
   "execution_count": 4,
   "id": "f6424179",
   "metadata": {},
   "outputs": [
    {
     "data": {
      "text/html": [
       "<div>\n",
       "<style scoped>\n",
       "    .dataframe tbody tr th:only-of-type {\n",
       "        vertical-align: middle;\n",
       "    }\n",
       "\n",
       "    .dataframe tbody tr th {\n",
       "        vertical-align: top;\n",
       "    }\n",
       "\n",
       "    .dataframe thead th {\n",
       "        text-align: right;\n",
       "    }\n",
       "</style>\n",
       "<table border=\"1\" class=\"dataframe\">\n",
       "  <thead>\n",
       "    <tr style=\"text-align: right;\">\n",
       "      <th></th>\n",
       "      <th>process.b1.capacity</th>\n",
       "      <th>process.b2.capacity</th>\n",
       "      <th>process.b3.capacity</th>\n",
       "      <th>process.b4.capacity</th>\n",
       "      <th>property.price</th>\n",
       "      <th>property.product</th>\n",
       "      <th>property.winner</th>\n",
       "      <th>verification.time</th>\n",
       "    </tr>\n",
       "  </thead>\n",
       "  <tbody>\n",
       "    <tr>\n",
       "      <th>count</th>\n",
       "      <td>2043.000000</td>\n",
       "      <td>2043.000000</td>\n",
       "      <td>2043.000000</td>\n",
       "      <td>2043.000000</td>\n",
       "      <td>2043.000000</td>\n",
       "      <td>2043.000000</td>\n",
       "      <td>2043.000000</td>\n",
       "      <td>2043.000000</td>\n",
       "    </tr>\n",
       "    <tr>\n",
       "      <th>mean</th>\n",
       "      <td>1.000000</td>\n",
       "      <td>2.093979</td>\n",
       "      <td>1.883994</td>\n",
       "      <td>0.587861</td>\n",
       "      <td>71.473324</td>\n",
       "      <td>3.252080</td>\n",
       "      <td>0.455213</td>\n",
       "      <td>7336.944574</td>\n",
       "    </tr>\n",
       "    <tr>\n",
       "      <th>std</th>\n",
       "      <td>0.816696</td>\n",
       "      <td>0.811269</td>\n",
       "      <td>0.320310</td>\n",
       "      <td>0.492340</td>\n",
       "      <td>8.048740</td>\n",
       "      <td>1.804225</td>\n",
       "      <td>1.062828</td>\n",
       "      <td>10375.393650</td>\n",
       "    </tr>\n",
       "    <tr>\n",
       "      <th>min</th>\n",
       "      <td>0.000000</td>\n",
       "      <td>0.000000</td>\n",
       "      <td>1.000000</td>\n",
       "      <td>0.000000</td>\n",
       "      <td>59.000000</td>\n",
       "      <td>1.000000</td>\n",
       "      <td>0.000000</td>\n",
       "      <td>77.916667</td>\n",
       "    </tr>\n",
       "    <tr>\n",
       "      <th>25%</th>\n",
       "      <td>0.000000</td>\n",
       "      <td>1.000000</td>\n",
       "      <td>2.000000</td>\n",
       "      <td>0.000000</td>\n",
       "      <td>65.000000</td>\n",
       "      <td>2.000000</td>\n",
       "      <td>0.000000</td>\n",
       "      <td>546.818910</td>\n",
       "    </tr>\n",
       "    <tr>\n",
       "      <th>50%</th>\n",
       "      <td>1.000000</td>\n",
       "      <td>2.000000</td>\n",
       "      <td>2.000000</td>\n",
       "      <td>1.000000</td>\n",
       "      <td>70.000000</td>\n",
       "      <td>3.000000</td>\n",
       "      <td>0.000000</td>\n",
       "      <td>1316.983333</td>\n",
       "    </tr>\n",
       "    <tr>\n",
       "      <th>75%</th>\n",
       "      <td>2.000000</td>\n",
       "      <td>3.000000</td>\n",
       "      <td>2.000000</td>\n",
       "      <td>1.000000</td>\n",
       "      <td>78.000000</td>\n",
       "      <td>5.000000</td>\n",
       "      <td>0.000000</td>\n",
       "      <td>10876.638889</td>\n",
       "    </tr>\n",
       "    <tr>\n",
       "      <th>max</th>\n",
       "      <td>2.000000</td>\n",
       "      <td>3.000000</td>\n",
       "      <td>2.000000</td>\n",
       "      <td>1.000000</td>\n",
       "      <td>90.000000</td>\n",
       "      <td>6.000000</td>\n",
       "      <td>4.000000</td>\n",
       "      <td>44130.520833</td>\n",
       "    </tr>\n",
       "  </tbody>\n",
       "</table>\n",
       "</div>"
      ],
      "text/plain": [
       "       process.b1.capacity  process.b2.capacity  process.b3.capacity   \n",
       "count          2043.000000          2043.000000          2043.000000  \\\n",
       "mean              1.000000             2.093979             1.883994   \n",
       "std               0.816696             0.811269             0.320310   \n",
       "min               0.000000             0.000000             1.000000   \n",
       "25%               0.000000             1.000000             2.000000   \n",
       "50%               1.000000             2.000000             2.000000   \n",
       "75%               2.000000             3.000000             2.000000   \n",
       "max               2.000000             3.000000             2.000000   \n",
       "\n",
       "       process.b4.capacity  property.price  property.product  property.winner   \n",
       "count          2043.000000     2043.000000       2043.000000      2043.000000  \\\n",
       "mean              0.587861       71.473324          3.252080         0.455213   \n",
       "std               0.492340        8.048740          1.804225         1.062828   \n",
       "min               0.000000       59.000000          1.000000         0.000000   \n",
       "25%               0.000000       65.000000          2.000000         0.000000   \n",
       "50%               1.000000       70.000000          3.000000         0.000000   \n",
       "75%               1.000000       78.000000          5.000000         0.000000   \n",
       "max               1.000000       90.000000          6.000000         4.000000   \n",
       "\n",
       "       verification.time  \n",
       "count        2043.000000  \n",
       "mean         7336.944574  \n",
       "std         10375.393650  \n",
       "min            77.916667  \n",
       "25%           546.818910  \n",
       "50%          1316.983333  \n",
       "75%         10876.638889  \n",
       "max         44130.520833  "
      ]
     },
     "execution_count": 4,
     "metadata": {},
     "output_type": "execute_result"
    }
   ],
   "source": [
    "df.describe()"
   ]
  },
  {
   "cell_type": "markdown",
   "id": "cf2b9606",
   "metadata": {},
   "source": [
    "Можемо бачити, що третій бідер робив ставки на більшу кількість продуктів ніж інші. \n",
    "\n",
    "Четвертий - найменшу.\n",
    "\n",
    "Ціни від 59 до 90, що добре для аналізу. З першого погляду немає явних аутлаєрів."
   ]
  },
  {
   "cell_type": "code",
   "execution_count": 5,
   "id": "f15947bf",
   "metadata": {},
   "outputs": [
    {
     "data": {
      "text/plain": [
       "(array([ 83., 119.,   0.,  68.,  68.,   0.,  68.,   0.,  68.,  68.,   0.,\n",
       "         68.,  68.,   0.,  68.,   0., 105., 221.,   0.,  62.,  62.,   0.,\n",
       "         62.,   0.,  62.,  62.,   0.,  62.,   0.,  62.,  62.,   0.,  62.,\n",
       "        221.,   0.,  14.,   0.,  14.,  14.,   0.,  14.,  14.,   0.,  14.,\n",
       "          0.,  14.,  14.,   0.,  14.,  66.]),\n",
       " array([59.  , 59.62, 60.24, 60.86, 61.48, 62.1 , 62.72, 63.34, 63.96,\n",
       "        64.58, 65.2 , 65.82, 66.44, 67.06, 67.68, 68.3 , 68.92, 69.54,\n",
       "        70.16, 70.78, 71.4 , 72.02, 72.64, 73.26, 73.88, 74.5 , 75.12,\n",
       "        75.74, 76.36, 76.98, 77.6 , 78.22, 78.84, 79.46, 80.08, 80.7 ,\n",
       "        81.32, 81.94, 82.56, 83.18, 83.8 , 84.42, 85.04, 85.66, 86.28,\n",
       "        86.9 , 87.52, 88.14, 88.76, 89.38, 90.  ]),\n",
       " <BarContainer object of 50 artists>)"
      ]
     },
     "execution_count": 5,
     "metadata": {},
     "output_type": "execute_result"
    },
    {
     "data": {
      "image/png": "[encoded data removed]",
      "text/plain": [
       "<Figure size 640x480 with 1 Axes>"
      ]
     },
     "metadata": {},
     "output_type": "display_data"
    }
   ],
   "source": [
    "plt.hist(df[\"property.price\"], bins=50)"
   ]
  },
  {
   "cell_type": "code",
   "execution_count": 6,
   "id": "88560dbd",
   "metadata": {},
   "outputs": [
    {
     "name": "stdout",
     "output_type": "stream",
     "text": [
      "property.price\n",
      "70    221\n",
      "80    221\n",
      "60    119\n",
      "69    105\n",
      "59     83\n",
      "61     68\n",
      "62     68\n",
      "63     68\n",
      "64     68\n",
      "65     68\n",
      "66     68\n",
      "67     68\n",
      "68     68\n",
      "90     66\n",
      "73     62\n",
      "78     62\n",
      "74     62\n",
      "71     62\n",
      "79     62\n",
      "75     62\n",
      "77     62\n",
      "76     62\n",
      "72     62\n",
      "81     14\n",
      "83     14\n",
      "84     14\n",
      "85     14\n",
      "86     14\n",
      "87     14\n",
      "88     14\n",
      "89     14\n",
      "82     14\n",
      "Name: count, dtype: int64\n"
     ]
    }
   ],
   "source": [
    "print(df[\"property.price\"].value_counts(sort=True))"
   ]
  },
  {
   "cell_type": "markdown",
   "id": "a7984d0f",
   "metadata": {},
   "source": [
    "З більш детального огляду можемо бачити, що ціни 80 та 70 зустрічаються начастіше. \n",
    "\n",
    "Інші ціни зустрічаються в межах 60 раз.\n",
    "\n",
    "Найменше зустрічаються ціни 81-89"
   ]
  },
  {
   "cell_type": "code",
   "execution_count": 7,
   "id": "3f0cbca4",
   "metadata": {},
   "outputs": [
    {
     "data": {
      "text/plain": [
       "(array([788., 399.,  16.,  87.,  39.,   3.,  14.,  10.,  44.,  87.,  19.,\n",
       "         21.,  21.,  25.,  23.,  17.,  17.,  22.,  16.,  24.,  26.,  18.,\n",
       "         18.,  10.,  13.,  11.,   9.,  13.,  16.,  12.,  20.,  17.,  21.,\n",
       "         23.,  11.,  18.,  17.,  17.,  14.,  12.,  11.,   4.,   7.,   3.,\n",
       "          2.,   3.,   1.,   1.,   1.,   2.]),\n",
       " array([   77.91666667,   958.96875   ,  1840.02083333,  2721.07291667,\n",
       "         3602.125     ,  4483.17708333,  5364.22916667,  6245.28125   ,\n",
       "         7126.33333333,  8007.38541667,  8888.4375    ,  9769.48958333,\n",
       "        10650.54166667, 11531.59375   , 12412.64583333, 13293.69791667,\n",
       "        14174.75      , 15055.80208333, 15936.85416667, 16817.90625   ,\n",
       "        17698.95833333, 18580.01041667, 19461.0625    , 20342.11458333,\n",
       "        21223.16666667, 22104.21875   , 22985.27083333, 23866.32291667,\n",
       "        24747.375     , 25628.42708333, 26509.47916667, 27390.53125   ,\n",
       "        28271.58333333, 29152.63541667, 30033.6875    , 30914.73958333,\n",
       "        31795.79166667, 32676.84375   , 33557.89583333, 34438.94791667,\n",
       "        35320.        , 36201.05208333, 37082.10416667, 37963.15625   ,\n",
       "        38844.20833333, 39725.26041667, 40606.3125    , 41487.36458333,\n",
       "        42368.41666667, 43249.46875   , 44130.52083333]),\n",
       " <BarContainer object of 50 artists>)"
      ]
     },
     "execution_count": 7,
     "metadata": {},
     "output_type": "execute_result"
    },
    {
     "data": {
      "image/png": "[encoded data removed]",
      "text/plain": [
       "<Figure size 640x480 with 1 Axes>"
      ]
     },
     "metadata": {},
     "output_type": "display_data"
    }
   ],
   "source": [
    "plt.hist(df[\"verification.time\"], bins=50)"
   ]
  },
  {
   "cell_type": "markdown",
   "id": "27bc882f",
   "metadata": {},
   "source": [
    "Час який потрібен на верифікацію, майже завжди незначний"
   ]
  },
  {
   "cell_type": "markdown",
   "id": "5f769785",
   "metadata": {},
   "source": [
    "# Давайте створимо наші Х та у\n",
    "\n",
    "Розділемо їх на тренувальні та тестові частки\n",
    "\n",
    "Протестуємо три різні моделі на них"
   ]
  },
  {
   "cell_type": "code",
   "execution_count": 48,
   "id": "17346e11",
   "metadata": {},
   "outputs": [],
   "source": [
    "X = df[['process.b1.capacity', 'process.b2.capacity', 'process.b3.capacity',\n",
    "       'process.b4.capacity', 'property.price', 'property.product',\n",
    "       'property.winner', 'verification.time']]\n",
    "y = df[\"verification.result\"]\n",
    "\n",
    "scaler = StandardScaler()\n",
    "scaler.fit(X)\n",
    "\n",
    "X_train, X_test, y_train, y_test = train_test_split(X, y, test_size=0.2, random_state=1)\n",
    "\n",
    "X_train, X_val, y_train, y_val = train_test_split(X_train, y_train, test_size=0.25, random_state=1)"
   ]
  },
  {
   "cell_type": "code",
   "execution_count": 50,
   "id": "7ce72a9c",
   "metadata": {},
   "outputs": [
    {
     "data": {
      "text/plain": [
       "0.9975550122249389"
      ]
     },
     "execution_count": 50,
     "metadata": {},
     "output_type": "execute_result"
    }
   ],
   "source": [
    "estimators = [\n",
    "     ('rf', RandomForestClassifier(n_estimators=10, random_state=42)),\n",
    "     ('svr', make_pipeline(StandardScaler(), LinearSVC(random_state=42)),\n",
    "      ('dt', DecisionTreeClassifier(random_state=42)))\n",
    "    ]\n",
    "\n",
    "stacking = StackingClassifier(estimators=estimators, final_estimator=LogisticRegression())\n",
    "clf.fit(X_train, y_train).score(X_test, y_test)"
   ]
  },
  {
   "cell_type": "code",
   "execution_count": 36,
   "id": "be0165ec",
   "metadata": {},
   "outputs": [
    {
     "data": {
      "text/plain": [
       "0.9975550122249389"
      ]
     },
     "execution_count": 36,
     "metadata": {},
     "output_type": "execute_result"
    }
   ],
   "source": [
    "boosting = GradientBoostingClassifier(n_estimators=10, learning_rate=1.0, max_depth=1, random_state=42).fit(X_train, y_train)\n",
    "clf.score(X_test, y_test)"
   ]
  },
  {
   "cell_type": "code",
   "execution_count": 46,
   "metadata": {},
   "outputs": [
    {
     "data": {
      "text/plain": [
       "0.9975550122249389"
      ]
     },
     "execution_count": 46,
     "metadata": {},
     "output_type": "execute_result"
    }
   ],
   "source": [
    "bagging = BaggingClassifier(n_estimators=10, random_state=42).fit(X_train, y_train)\n",
    "clf.score(X_test, y_test)"
   ]
  },
  {
   "cell_type": "markdown",
   "id": "f34de164",
   "metadata": {},
   "source": [
    "Як бачимо, на даному датасеті класифікацію найкраще виконує Стекінг класифікатор та Бегінг.\n",
    "\n",
    "Поексперементуємо з гіперпараметрами Бустінгу, щоб отримати кращі результати."
   ]
  },
  {
   "cell_type": "code",
   "execution_count": 44,
   "id": "aae7e40b",
   "metadata": {},
   "outputs": [
    {
     "data": {
      "text/plain": [
       "0.9975550122249389"
      ]
     },
     "execution_count": 44,
     "metadata": {},
     "output_type": "execute_result"
    }
   ],
   "source": [
    "boosting = GradientBoostingClassifier(n_estimators=30, learning_rate=1, max_depth=5, random_state=42).fit(X_train, y_train)\n",
    "clf.score(X_test, y_test)"
   ]
  },
  {
   "cell_type": "markdown",
   "id": "93da8a8b",
   "metadata": {},
   "source": [
    "Збільшивши кількість естіматорів у три рази та максимальну глибину в 5, ми досягли результатів у майже 100%"
   ]
  },
  {
   "cell_type": "code",
   "execution_count": 51,
   "id": "724421c8",
   "metadata": {},
   "outputs": [
    {
     "name": "stdout",
     "output_type": "stream",
     "text": [
      "StackingClassifier(estimators=[('rf',\n",
      "                                RandomForestClassifier(n_estimators=10,\n",
      "                                                       random_state=42)),\n",
      "                               ('svr',\n",
      "                                Pipeline(steps=[('standardscaler',\n",
      "                                                 StandardScaler()),\n",
      "                                                ('linearsvc',\n",
      "                                                 LinearSVC(random_state=42))]),\n",
      "                                ('dt',\n",
      "                                 DecisionTreeClassifier(random_state=42)))],\n",
      "                   final_estimator=LogisticRegression())\n",
      " model gives us 0.9951100244498777\n",
      "GradientBoostingClassifier(learning_rate=1, max_depth=5, n_estimators=30,\n",
      "                           random_state=42)\n",
      " model gives us 0.9975550122249389\n",
      "BaggingClassifier(random_state=42)\n",
      " model gives us 0.9975550122249389\n"
     ]
    }
   ],
   "source": [
    "def final_result(x, y):\n",
    "    for model in [stacking, boosting, bagging]:\n",
    "        model.fit(X_train, y_train)\n",
    "        print(f\"{model}\\n model gives us {model.score(x, y)}\")\n",
    "        \n",
    "final_result(X_val, y_val)"
   ]
  },
  {
   "cell_type": "markdown",
   "id": "fbf6d1d9",
   "metadata": {},
   "source": [
    "# Результати\n",
    "\n",
    "Трохи корегуючи гіпер параметри цих трьох моделей, можемо досягти результатів у ~99.5%, що є дуже гарним показником\n",
    "\n",
    "Однак на валідаційних даних ми бачимо різницю між результами.\n",
    "\n",
    "Найкраще впоралась модель Бустінгу та Бегінгу з 99.7% потім - Стакінг з 99.5%."
   ]
  }
 ],
 "metadata": {
  "kernelspec": {
   "display_name": "Python 3",
   "language": "python",
   "name": "python3"
  },
  "language_info": {
   "codemirror_mode": {
    "name": "ipython",
    "version": 3
   },
   "file_extension": ".py",
   "mimetype": "text/x-python",
   "name": "python",
   "nbconvert_exporter": "python",
   "pygments_lexer": "ipython3",
   "version": "3.11.5"
  }
 },
 "nbformat": 4,
 "nbformat_minor": 5
}
